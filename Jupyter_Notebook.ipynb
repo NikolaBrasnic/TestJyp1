{"cells":[{"cell_type":"markdown","metadata":{},"source":["<center>\n","  <img src=\"https://cf-courses-data.s3.us.cloud-object-storage.appdomain.cloud/IBMDeveloperSkillsNetwork-DS0105EN-SkillsNetwork/labs/Module2/images/SN_web_lightmode.png\" width=\"300\" alt=\"cognitiveclass.ai logo\">\n","</center>\n"]},{"cell_type":"markdown","metadata":{},"source":["#### Add your code below following the instructions given in the course\n"]},{"cell_type":"code","execution_count":null,"metadata":{},"outputs":[],"source":[]}],"metadata":{"kernelspec":{"display_name":"Python","language":"python","name":"conda-env-python-py"},"language_info":{"name":""}},"nbformat":4,"nbformat_minor":4}

# Mein Erstes Jupyter Notebook Projekt

## Einleitung
Dieses Notebook wurde von Nikola Brasnic erstellt. Es enthält Informationen zu meinen Programmierkenntnissen, Frameworks, arithmetischen Ausdrücken und meinen Zielen im Bereich Data Science und KI-Entwicklung.

## Programmiersprachen Kenntnisse
- Python
- R
- Java

## Frameworks
- Numpy
- Pandas

## Arithmetische Ausdrücke
Einige grundlegende arithmetische Ausdrücke sind:
- Addition: \(20 + 20\)
- Multiplikation: \(20 * 20\)

## Umrechnung von Minuten in Stunden
60 Minuten = 1 Stunde

## Ziele
Meine Ziele sind eine Karriere im Bereich Data Science und KI-Entwicklung zu verfolgen.

## Autor
Nikola Brasnic





